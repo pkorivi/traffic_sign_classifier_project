{
 "cells": [
  {
   "cell_type": "markdown",
   "metadata": {},
   "source": [
    "# Self-Driving Car Engineer Nanodegree\n",
    "\n",
    "## Deep Learning\n",
    "\n",
    "## Project: Build a Traffic Sign Recognition Classifier\n",
    "\n",
    "In this notebook, a template is provided for you to implement your functionality in stages, which is required to successfully complete this project. If additional code is required that cannot be included in the notebook, be sure that the Python code is successfully imported and included in your submission if necessary. \n",
    "\n",
    "> **Note**: Once you have completed all of the code implementations, you need to finalize your work by exporting the iPython Notebook as an HTML document. Before exporting the notebook to html, all of the code cells need to have been run so that reviewers can see the final implementation and output. You can then export the notebook by using the menu above and navigating to  \\n\",\n",
    "    \"**File -> Download as -> HTML (.html)**. Include the finished document along with this notebook as your submission. \n",
    "\n",
    "In addition to implementing code, there is a writeup to complete. The writeup should be completed in a separate file, which can be either a markdown file or a pdf document. There is a [write up template](https://github.com/udacity/CarND-Traffic-Sign-Classifier-Project/blob/master/writeup_template.md) that can be used to guide the writing process. Completing the code template and writeup template will cover all of the [rubric points](https://review.udacity.com/#!/rubrics/481/view) for this project.\n",
    "\n",
    "The [rubric](https://review.udacity.com/#!/rubrics/481/view) contains \"Stand Out Suggestions\" for enhancing the project beyond the minimum requirements. The stand out suggestions are optional. If you decide to pursue the \"stand out suggestions\", you can include the code in this Ipython notebook and also discuss the results in the writeup file.\n",
    "\n",
    "\n",
    ">**Note:** Code and Markdown cells can be executed using the **Shift + Enter** keyboard shortcut. In addition, Markdown cells can be edited by typically double-clicking the cell to enter edit mode."
   ]
  },
  {
   "cell_type": "markdown",
   "metadata": {},
   "source": [
    "---\n",
    "## Step 0: Load The Data"
   ]
  },
  {
   "cell_type": "code",
   "execution_count": 3,
   "metadata": {
    "collapsed": true
   },
   "outputs": [],
   "source": [
    "# Load pickled data\n",
    "import pickle\n",
    "import numpy as np\n",
    "\n",
    "# TODO: Fill this in based on where you saved the training and testing data\n",
    "\n",
    "training_file = 'train.p'\n",
    "validation_file = 'valid.p'\n",
    "testing_file = 'test.p'\n",
    "\n",
    "with open(training_file, mode='rb') as f:\n",
    "    train = pickle.load(f)\n",
    "with open(validation_file, mode='rb') as f:\n",
    "    valid = pickle.load(f)\n",
    "with open(testing_file, mode='rb') as f:\n",
    "    test = pickle.load(f)\n",
    "    \n",
    "X_train, y_train = train['features'], train['labels']\n",
    "X_valid, y_valid = valid['features'], valid['labels']\n",
    "X_test, y_test = test['features'], test['labels']"
   ]
  },
  {
   "cell_type": "markdown",
   "metadata": {},
   "source": [
    "---\n",
    "\n",
    "## Step 1: Dataset Summary & Exploration\n",
    "\n",
    "The pickled data is a dictionary with 4 key/value pairs:\n",
    "\n",
    "- `'features'` is a 4D array containing raw pixel data of the traffic sign images, (num examples, width, height, channels).\n",
    "- `'labels'` is a 1D array containing the label/class id of the traffic sign. The file `signnames.csv` contains id -> name mappings for each id.\n",
    "- `'sizes'` is a list containing tuples, (width, height) representing the original width and height the image.\n",
    "- `'coords'` is a list containing tuples, (x1, y1, x2, y2) representing coordinates of a bounding box around the sign in the image. **THESE COORDINATES ASSUME THE ORIGINAL IMAGE. THE PICKLED DATA CONTAINS RESIZED VERSIONS (32 by 32) OF THESE IMAGES**\n",
    "\n",
    "Complete the basic data summary below. Use python, numpy and/or pandas methods to calculate the data summary rather than hard coding the results. For example, the [pandas shape method](http://pandas.pydata.org/pandas-docs/stable/generated/pandas.DataFrame.shape.html) might be useful for calculating some of the summary results. "
   ]
  },
  {
   "cell_type": "markdown",
   "metadata": {},
   "source": [
    "### Provide a Basic Summary of the Data Set Using Python, Numpy and/or Pandas"
   ]
  },
  {
   "cell_type": "code",
   "execution_count": 4,
   "metadata": {},
   "outputs": [
    {
     "name": "stdout",
     "output_type": "stream",
     "text": [
      "Number of training examples = 34799\n",
      "Number of validation examples = 4410\n",
      "Number of testing examples = 12630\n",
      "Image data shape = (32, 32, 3)\n",
      "Number of classes = 43\n"
     ]
    },
    {
     "data": {
      "image/png": "[encoded data removed]",
      "text/plain": [
       "<matplotlib.figure.Figure at 0x7f8ea403b4e0>"
      ]
     },
     "metadata": {},
     "output_type": "display_data"
    }
   ],
   "source": [
    "### Replace each question mark with the appropriate value. \n",
    "### Use python, pandas or numpy methods rather than hard coding the results\n",
    "\n",
    "import matplotlib.pyplot as plt\n",
    "\n",
    "# Number of training examples\n",
    "n_train = len(X_train)\n",
    "\n",
    "# Number of validation examples\n",
    "n_validation = len(X_valid)\n",
    "\n",
    "# Number of testing examples.\n",
    "n_test = len(X_test)\n",
    "\n",
    "# What's the shape of an traffic sign image?\n",
    "image_shape = X_train[0].shape\n",
    "\n",
    "# unique classes/labels in the dataset.\n",
    "\n",
    "classes, distribution = np.unique(y_train,return_counts = True) \n",
    "n_classes = len(classes)\n",
    "classes_v, distribution_v = np.unique(y_valid,return_counts = True) \n",
    "\n",
    "print(\"Number of training examples =\", n_train)\n",
    "print(\"Number of validation examples =\", n_validation)\n",
    "print(\"Number of testing examples =\", n_test)\n",
    "print(\"Image data shape =\", image_shape)\n",
    "print(\"Number of classes =\", n_classes)\n",
    "\n",
    "#Distribution of Data\n",
    "fig, ax = plt.subplots()\n",
    "width=0.3\n",
    "rects1 = ax.bar(classes, distribution, width, color='g',label='training')\n",
    "rects1 = ax.bar((classes_v+width), distribution_v, width, color='r',label='Validation')\n",
    "ax.set_title('Distribution of example classes')\n",
    "ax.set_xlabel('Classes')\n",
    "ax.set_ylabel('Number of examples')\n",
    "plt.legend()\n",
    "plt.show(rects1)"
   ]
  },
  {
   "cell_type": "markdown",
   "metadata": {},
   "source": [
    "### Include an exploratory visualization of the dataset"
   ]
  },
  {
   "cell_type": "markdown",
   "metadata": {},
   "source": [
    "Visualize the German Traffic Signs Dataset using the pickled file(s). This is open ended, suggestions include: plotting traffic sign images, plotting the count of each sign, etc. \n",
    "\n",
    "The [Matplotlib](http://matplotlib.org/) [examples](http://matplotlib.org/examples/index.html) and [gallery](http://matplotlib.org/gallery.html) pages are a great resource for doing visualizations in Python.\n",
    "\n",
    "**NOTE:** It's recommended you start with something simple first. If you wish to do more, come back to it after you've completed the rest of the sections. It can be interesting to look at the distribution of classes in the training, validation and test set. Is the distribution the same? Are there more examples of some classes than others?"
   ]
  },
  {
   "cell_type": "code",
   "execution_count": 5,
   "metadata": {},
   "outputs": [
    {
     "name": "stdout",
     "output_type": "stream",
     "text": [
      "3\n"
     ]
    },
    {
     "data": {
      "image/png": "[encoded data removed]",
      "text/plain": [
       "<matplotlib.figure.Figure at 0x7f8ed4471d68>"
      ]
     },
     "metadata": {},
     "output_type": "display_data"
    }
   ],
   "source": [
    "### Data exploration visualization code goes here.\n",
    "### Feel free to use as many code cells as needed.\n",
    "import random\n",
    "import numpy as np\n",
    "import matplotlib.pyplot as plt\n",
    "# Visualizations will be shown in the notebook.\n",
    "\n",
    "index = random.randint(0, n_train)\n",
    "image = X_train[index].squeeze()\n",
    "%matplotlib inline\n",
    "plt.figure(figsize=(1,1))\n",
    "plt.imshow(image)\n",
    "print(y_train[index])\n"
   ]
  },
  {
   "cell_type": "markdown",
   "metadata": {},
   "source": [
    "----\n",
    "\n",
    "## Step 2: Design and Test a Model Architecture\n",
    "\n",
    "Design and implement a deep learning model that learns to recognize traffic signs. Train and test your model on the [German Traffic Sign Dataset](http://benchmark.ini.rub.de/?section=gtsrb&subsection=dataset).\n",
    "\n",
    "The LeNet-5 implementation shown in the [classroom](https://classroom.udacity.com/nanodegrees/nd013/parts/fbf77062-5703-404e-b60c-95b78b2f3f9e/modules/6df7ae49-c61c-4bb2-a23e-6527e69209ec/lessons/601ae704-1035-4287-8b11-e2c2716217ad/concepts/d4aca031-508f-4e0b-b493-e7b706120f81) at the end of the CNN lesson is a solid starting point. You'll have to change the number of classes and possibly the preprocessing, but aside from that it's plug and play! \n",
    "\n",
    "With the LeNet-5 solution from the lecture, you should expect a validation set accuracy of about 0.89. To meet specifications, the validation set accuracy will need to be at least 0.93. It is possible to get an even higher accuracy, but 0.93 is the minimum for a successful project submission. \n",
    "\n",
    "There are various aspects to consider when thinking about this problem:\n",
    "\n",
    "- Neural network architecture (is the network over or underfitting?)\n",
    "- Play around preprocessing techniques (normalization, rgb to grayscale, etc)\n",
    "- Number of examples per label (some have more than others).\n",
    "- Generate fake data.\n",
    "\n",
    "Here is an example of a [published baseline model on this problem](http://yann.lecun.com/exdb/publis/pdf/sermanet-ijcnn-11.pdf). It's not required to be familiar with the approach used in the paper but, it's good practice to try to read papers like these."
   ]
  },
  {
   "cell_type": "markdown",
   "metadata": {},
   "source": [
    "### Pre-process the Data Set (normalization, grayscale, etc.)"
   ]
  },
  {
   "cell_type": "markdown",
   "metadata": {},
   "source": [
    "Minimally, the image data should be normalized so that the data has mean zero and equal variance. For image data, `(pixel - 128)/ 128` is a quick way to approximately normalize the data and can be used in this project. \n",
    "\n",
    "Other pre-processing steps are optional. You can try different techniques to see if it improves performance. \n",
    "\n",
    "Use the code cell (or multiple code cells, if necessary) to implement the first step of your project."
   ]
  },
  {
   "cell_type": "code",
   "execution_count": 6,
   "metadata": {
    "collapsed": true
   },
   "outputs": [],
   "source": [
    "### Preprocess the data here. It is required to normalize the data. Other preprocessing steps could include \n",
    "### converting to grayscale, etc.\n",
    "### Feel free to use as many code cells as needed.\n",
    "\n",
    "from sklearn.utils import shuffle\n",
    "from skimage import exposure\n",
    "\n",
    "X_train, y_train = shuffle(X_train, y_train)\n",
    "\n",
    "#Normalising\n",
    "\n",
    "X_train = ((X_train-128).astype(np.int8))/128.0\n",
    "X_valid = ((X_valid-128).astype(np.int8))/128.0\n",
    "X_test = ((X_test-128).astype(np.int8))/128.0\n",
    "\n",
    "img_depth = X_train[0].shape[2] # 3 for rgb, 1 for gray scale\n",
    "\n",
    "#print(X_train.shape)\n",
    "#print(X_train[0].shape)"
   ]
  },
  {
   "cell_type": "markdown",
   "metadata": {},
   "source": [
    "### Model Architecture"
   ]
  },
  {
   "cell_type": "code",
   "execution_count": 7,
   "metadata": {
    "collapsed": true
   },
   "outputs": [],
   "source": [
    "### Define your architecture here.\n",
    "### Feel free to use as many code cells as needed.\n",
    "import tensorflow as tf\n",
    "from tensorflow.contrib.layers import flatten\n",
    "\n",
    "MAX_EPOCHS = 100\n",
    "BATCH_SIZE = 128\n",
    "\n",
    "def LeNet(x):    \n",
    "    # Arguments used for tf.truncated_normal, randomly defines variables for the weights and biases for each layer\n",
    "    mu = 0\n",
    "    sigma = 0.1\n",
    "    keep_prob = 0.5\n",
    "    depth1 = 12 #6\n",
    "    depth2 = 32 #16\n",
    "     \n",
    "    # Layer 1: Convolutional. Input = 32x32x3. Output = 28x28x12.\n",
    "    # filter shape (flt_ht, flt_wd, inpt_depth, output_depth)\n",
    "    \n",
    "    conv1_W = tf.Variable(tf.truncated_normal(shape=(5, 5, img_depth, depth1), mean = mu, stddev = sigma))\n",
    "    conv1_b = tf.Variable(tf.zeros(depth1))\n",
    "    conv1   = tf.nn.conv2d(x, conv1_W, strides=[1, 1, 1, 1], padding='VALID') + conv1_b\n",
    "    # Activation.\n",
    "    conv1 = tf.nn.relu(conv1)\n",
    "    # Pooling. Input = 28x28x12. Output = 14x14x12.\n",
    "    conv1 = tf.nn.avg_pool(conv1, ksize=[1, 2, 2, 1], strides=[1, 2, 2, 1], padding='VALID')\n",
    "    \n",
    " \n",
    "    # Layer 2: Convolutional. Output = 10x10x32. \n",
    "    conv2_W = tf.Variable(tf.truncated_normal(shape=(5, 5, depth1, depth2), mean = mu, stddev = sigma))\n",
    "    conv2_b = tf.Variable(tf.zeros(depth2))\n",
    "    conv2   = tf.nn.conv2d(conv1, conv2_W, strides=[1, 1, 1, 1], padding='VALID') + conv2_b\n",
    "    # Activation.\n",
    "    conv2 = tf.nn.relu(conv2)\n",
    "    # Pooling. Input = 10x10x32. Output = 5x5x32\n",
    "    conv2 = tf.nn.avg_pool(conv2, ksize=[1, 2, 2, 1], strides=[1, 2, 2, 1], padding='VALID')\n",
    "    \n",
    "        \n",
    "    #Layer 3 1x1 convolution \n",
    "    conv3_W = tf.Variable(tf.truncated_normal(shape=(1, 1, depth2, depth2), mean = mu, stddev = sigma))\n",
    "    conv3_b = tf.Variable(tf.zeros(depth2))\n",
    "    conv3   = tf.nn.conv2d(conv2, conv3_W, strides=[1, 1, 1, 1], padding='VALID') + conv3_b\n",
    "    #conv3 = tf.nn.relu(conv3) This isnt making sense in making output better\n",
    "    \n",
    "    # Flatten. Input = 5x5x32. Output = 5*5*32 = 800\n",
    "    fc0 = flatten(conv3)\n",
    "    \n",
    "    #Layer 4: Fully Connected. Input = 800. Output = 500.\n",
    "    fc1_w = tf.Variable(tf.truncated_normal(shape=(800,500), mean = mu, stddev = sigma))\n",
    "    fc1_b = tf.Variable(tf.zeros(500))\n",
    "    fc1 = tf.add(tf.matmul(fc0,fc1_w),fc1_b)\n",
    "    # Activation.\n",
    "    fc1 = tf.nn.relu(fc1)\n",
    "    fc1 = tf.nn.dropout(fc1, keep_prob)\n",
    "    \n",
    "    \n",
    "    #Layer 5: Fully Connected. Input = 500. Output = 250.\n",
    "    fc4_w = tf.Variable(tf.truncated_normal(shape=(500,250), mean = mu, stddev = sigma))\n",
    "    fc4_b = tf.Variable(tf.zeros(250))\n",
    "    fc4 = tf.add(tf.matmul(fc1,fc4_w),fc4_b)\n",
    "    # TODO: Activation.\n",
    "    fc4 = tf.nn.relu(fc4)\n",
    "    fc4 = tf.nn.dropout(fc4, keep_prob)\n",
    "    \n",
    "    \n",
    "    #Layer 6: Fully Connected. Input = 250. Output = 120.\n",
    "    fc5_w = tf.Variable(tf.truncated_normal(shape=(250,120), mean = mu, stddev = sigma))\n",
    "    fc5_b = tf.Variable(tf.zeros(120))\n",
    "    fc5 = tf.add(tf.matmul(fc4,fc5_w),fc5_b)\n",
    "    # Activation.\n",
    "    fc5 = tf.nn.relu(fc5)\n",
    "    fc5 = tf.nn.dropout(fc5, keep_prob)\n",
    "    \n",
    "\n",
    "    # Layer 7: Fully Connected. Input = 120. Output = 84.\n",
    "    fc2_w = tf.Variable(tf.truncated_normal(shape=(120,84), mean = mu, stddev = sigma))\n",
    "    fc2_b = tf.Variable(tf.zeros(84))\n",
    "    fc2 = tf.add(tf.matmul(fc5,fc2_w),fc2_b)\n",
    "    #Activation.\n",
    "    fc2 = tf.nn.relu(fc2)\n",
    "    n_classes = 43\n",
    "    \n",
    "    # Layer 8: Fully Connected. Input = 84. Output = 43(#number of signs).\n",
    "    fc3_w = tf.Variable(tf.truncated_normal(shape=(84,n_classes), mean = mu, stddev = sigma))\n",
    "    fc3_b = tf.Variable(tf.zeros(n_classes))\n",
    "    logits = tf.add(tf.matmul(fc2,fc3_w),fc3_b)\n",
    "    \n",
    "    return logits\n",
    "\n"
   ]
  },
  {
   "cell_type": "markdown",
   "metadata": {},
   "source": [
    "### Train, Validate and Test the Model"
   ]
  },
  {
   "cell_type": "markdown",
   "metadata": {},
   "source": [
    "A validation set can be used to assess how well the model is performing. A low accuracy on the training and validation\n",
    "sets imply underfitting. A high accuracy on the training set but low accuracy on the validation set implies overfitting."
   ]
  },
  {
   "cell_type": "code",
   "execution_count": 8,
   "metadata": {
    "collapsed": true
   },
   "outputs": [],
   "source": [
    "### Train your model here.\n",
    "### Calculate and report the accuracy on the training and validation set.\n",
    "### Once a final model architecture is selected, \n",
    "### the accuracy on the test set should be calculated and reported as well.\n",
    "### Feel free to use as many code cells as needed.\n",
    "\n",
    "#Inputs\n",
    "x = tf.placeholder(tf.float32, (None, image_shape[0], image_shape[1], img_depth))\n",
    "y = tf.placeholder(tf.int32, (None))\n",
    "one_hot_y = tf.one_hot(y, n_classes)\n",
    "\n"
   ]
  },
  {
   "cell_type": "code",
   "execution_count": 9,
   "metadata": {
    "collapsed": true
   },
   "outputs": [],
   "source": [
    "#Basic Training pipeline\n",
    "\n",
    "#learning rate\n",
    "rate = 0.001\n",
    "\n",
    "logits = LeNet(x)\n",
    "cross_entropy = tf.nn.softmax_cross_entropy_with_logits(labels=one_hot_y, logits=logits)\n",
    "loss_operation = tf.reduce_mean(cross_entropy)\n",
    "optimizer = tf.train.AdamOptimizer(learning_rate = rate)\n",
    "training_operation = optimizer.minimize(loss_operation)"
   ]
  },
  {
   "cell_type": "code",
   "execution_count": 10,
   "metadata": {
    "collapsed": true
   },
   "outputs": [],
   "source": [
    "#Evaluation model\n",
    "\n",
    "correct_prediction = tf.equal(tf.argmax(logits, 1), tf.argmax(one_hot_y, 1))\n",
    "accuracy_operation = tf.reduce_mean(tf.cast(correct_prediction, tf.float32))\n",
    "saver = tf.train.Saver()\n",
    "\n",
    "def evaluate(X_data, y_data):\n",
    "    num_examples = len(X_data)\n",
    "    total_accuracy = 0\n",
    "    sess = tf.get_default_session()\n",
    "    for offset in range(0, num_examples, BATCH_SIZE):\n",
    "        batch_x, batch_y = X_data[offset:offset+BATCH_SIZE], y_data[offset:offset+BATCH_SIZE]\n",
    "        accuracy = sess.run(accuracy_operation, feed_dict={x: batch_x, y: batch_y})\n",
    "        total_accuracy += (accuracy * len(batch_x))\n",
    "    return total_accuracy / num_examples"
   ]
  },
  {
   "cell_type": "code",
   "execution_count": 11,
   "metadata": {
    "scrolled": true
   },
   "outputs": [
    {
     "name": "stdout",
     "output_type": "stream",
     "text": [
      "Training...\n",
      "\n",
      "EPOCH 1 ...\n",
      "Training Accuracy = 0.554\n",
      "Validation Accuracy = 0.531\n",
      "\n",
      "Model saved\n",
      "EPOCH 2 ...\n",
      "Training Accuracy = 0.795\n",
      "Validation Accuracy = 0.740\n",
      "\n",
      "Model saved\n",
      "EPOCH 3 ...\n",
      "Training Accuracy = 0.870\n",
      "Validation Accuracy = 0.816\n",
      "\n",
      "Model saved\n",
      "EPOCH 4 ...\n",
      "Training Accuracy = 0.917\n",
      "Validation Accuracy = 0.851\n",
      "\n",
      "Model saved\n",
      "EPOCH 5 ...\n",
      "Training Accuracy = 0.928\n",
      "Validation Accuracy = 0.860\n",
      "\n",
      "Model saved\n",
      "EPOCH 6 ...\n",
      "Training Accuracy = 0.943\n",
      "Validation Accuracy = 0.884\n",
      "\n",
      "Model saved\n",
      "EPOCH 7 ...\n",
      "Training Accuracy = 0.958\n",
      "Validation Accuracy = 0.903\n",
      "\n",
      "Model saved\n",
      "EPOCH 8 ...\n",
      "Training Accuracy = 0.959\n",
      "Validation Accuracy = 0.893\n",
      "\n",
      "EPOCH 9 ...\n",
      "Training Accuracy = 0.969\n",
      "Validation Accuracy = 0.906\n",
      "\n",
      "Model saved\n",
      "EPOCH 10 ...\n",
      "Training Accuracy = 0.972\n",
      "Validation Accuracy = 0.908\n",
      "\n",
      "Model saved\n",
      "EPOCH 11 ...\n",
      "Training Accuracy = 0.974\n",
      "Validation Accuracy = 0.922\n",
      "\n",
      "Model saved\n",
      "EPOCH 12 ...\n",
      "Training Accuracy = 0.978\n",
      "Validation Accuracy = 0.912\n",
      "\n",
      "EPOCH 13 ...\n",
      "Training Accuracy = 0.978\n",
      "Validation Accuracy = 0.923\n",
      "\n",
      "Model saved\n",
      "EPOCH 14 ...\n",
      "Training Accuracy = 0.974\n",
      "Validation Accuracy = 0.910\n",
      "\n",
      "EPOCH 15 ...\n",
      "Training Accuracy = 0.979\n",
      "Validation Accuracy = 0.917\n",
      "\n",
      "EPOCH 16 ...\n",
      "Training Accuracy = 0.982\n",
      "Validation Accuracy = 0.921\n",
      "\n",
      "EPOCH 17 ...\n",
      "Training Accuracy = 0.977\n",
      "Validation Accuracy = 0.898\n",
      "\n",
      "EPOCH 18 ...\n",
      "Training Accuracy = 0.978\n",
      "Validation Accuracy = 0.916\n",
      "\n",
      "EPOCH 19 ...\n",
      "Training Accuracy = 0.986\n",
      "Validation Accuracy = 0.922\n",
      "\n",
      "EPOCH 20 ...\n",
      "Training Accuracy = 0.987\n",
      "Validation Accuracy = 0.930\n",
      "\n",
      "Model saved\n",
      "EPOCH 21 ...\n",
      "Training Accuracy = 0.988\n",
      "Validation Accuracy = 0.929\n",
      "\n",
      "EPOCH 22 ...\n",
      "Training Accuracy = 0.985\n",
      "Validation Accuracy = 0.925\n",
      "\n",
      "EPOCH 23 ...\n",
      "Training Accuracy = 0.984\n",
      "Validation Accuracy = 0.922\n",
      "\n",
      "EPOCH 24 ...\n",
      "Training Accuracy = 0.988\n",
      "Validation Accuracy = 0.930\n",
      "\n",
      "EPOCH 25 ...\n",
      "Training Accuracy = 0.986\n",
      "Validation Accuracy = 0.929\n",
      "\n",
      "EPOCH 26 ...\n",
      "Training Accuracy = 0.990\n",
      "Validation Accuracy = 0.935\n",
      "\n",
      "Model saved\n",
      "EPOCH 27 ...\n",
      "Training Accuracy = 0.991\n",
      "Validation Accuracy = 0.939\n",
      "\n",
      "Model saved\n",
      "EPOCH 28 ...\n",
      "Training Accuracy = 0.986\n",
      "Validation Accuracy = 0.928\n",
      "\n",
      "EPOCH 29 ...\n",
      "Training Accuracy = 0.987\n",
      "Validation Accuracy = 0.938\n",
      "\n",
      "EPOCH 30 ...\n",
      "Training Accuracy = 0.991\n",
      "Validation Accuracy = 0.932\n",
      "\n",
      "EPOCH 31 ...\n",
      "Training Accuracy = 0.990\n",
      "Validation Accuracy = 0.926\n",
      "\n",
      "EPOCH 32 ...\n",
      "Training Accuracy = 0.987\n",
      "Validation Accuracy = 0.922\n",
      "\n",
      "EPOCH 33 ...\n",
      "Training Accuracy = 0.991\n",
      "Validation Accuracy = 0.933\n",
      "\n",
      "EPOCH 34 ...\n",
      "Training Accuracy = 0.988\n",
      "Validation Accuracy = 0.931\n",
      "\n",
      "EPOCH 35 ...\n",
      "Training Accuracy = 0.991\n",
      "Validation Accuracy = 0.932\n",
      "\n",
      "EPOCH 36 ...\n",
      "Training Accuracy = 0.988\n",
      "Validation Accuracy = 0.929\n",
      "\n",
      "EPOCH 37 ...\n",
      "Training Accuracy = 0.987\n",
      "Validation Accuracy = 0.930\n",
      "\n",
      "Early Termination to avoid over fitting\n",
      "Best Accuracy is = 0.939\n"
     ]
    }
   ],
   "source": [
    "#Training the model\n",
    "# variables for early termination\n",
    "prev_best_accuracy = 0.0\n",
    "prev_best_epoch = 0\n",
    "max_termination_epoch = 8\n",
    "\n",
    "with tf.Session() as sess:\n",
    "    sess.run(tf.global_variables_initializer())\n",
    "    num_examples = len(X_train)\n",
    "    \n",
    "    print(\"Training...\")\n",
    "    print()\n",
    "    for i in range(MAX_EPOCHS):\n",
    "        X_train, y_train = shuffle(X_train, y_train)\n",
    "        for offset in range(0, num_examples, BATCH_SIZE):\n",
    "            end = offset + BATCH_SIZE\n",
    "            batch_x, batch_y = X_train[offset:end], y_train[offset:end]\n",
    "            sess.run(training_operation, feed_dict={x: batch_x, y: batch_y})\n",
    "        \n",
    "        training_Accuracy  = evaluate(X_train, y_train)\n",
    "        validation_accuracy = evaluate(X_valid, y_valid)\n",
    "        \n",
    "        print(\"EPOCH {} ...\".format(i+1))\n",
    "        print(\"Training Accuracy = {:.3f}\".format(training_Accuracy))\n",
    "        print(\"Validation Accuracy = {:.3f}\".format(validation_accuracy))\n",
    "        print()\n",
    "        if validation_accuracy > prev_best_accuracy:\n",
    "            prev_best_accuracy = validation_accuracy\n",
    "            prev_best_epoch = i+1\n",
    "            saver.save(sess, './lenet')\n",
    "            print(\"Model saved\")\n",
    "        elif (validation_accuracy<prev_best_accuracy) and ((i - prev_best_epoch)>max_termination_epoch):\n",
    "            print('Early Termination to avoid over fitting')\n",
    "            print('Best Accuracy is = {:.3f}'.format(prev_best_accuracy))\n",
    "            break"
   ]
  },
  {
   "cell_type": "code",
   "execution_count": 12,
   "metadata": {},
   "outputs": [
    {
     "name": "stdout",
     "output_type": "stream",
     "text": [
      "Test Accuracy = 0.930\n"
     ]
    }
   ],
   "source": [
    "#TESTING \n",
    "\n",
    "with tf.Session() as sess:\n",
    "    saver.restore(sess, tf.train.latest_checkpoint('.'))\n",
    "\n",
    "    test_accuracy = evaluate(X_test, y_test)\n",
    "    print(\"Test Accuracy = {:.3f}\".format(test_accuracy))\n"
   ]
  },
  {
   "cell_type": "markdown",
   "metadata": {},
   "source": [
    "---\n",
    "\n",
    "## Step 3: Test a Model on New Images\n",
    "\n",
    "To give yourself more insight into how your model is working, download at least five pictures of German traffic signs from the web and use your model to predict the traffic sign type.\n",
    "\n",
    "You may find `signnames.csv` useful as it contains mappings from the class id (integer) to the actual sign name."
   ]
  },
  {
   "cell_type": "markdown",
   "metadata": {},
   "source": [
    "### Load and Output the Images"
   ]
  },
  {
   "cell_type": "code",
   "execution_count": 13,
   "metadata": {},
   "outputs": [
    {
     "data": {
      "text/plain": [
       "<matplotlib.image.AxesImage at 0x7f8e791b6cf8>"
      ]
     },
     "execution_count": 13,
     "metadata": {},
     "output_type": "execute_result"
    },
    {
     "data": {
      "image/png": "[encoded data removed]",
      "text/plain": [
       "<matplotlib.figure.Figure at 0x7f8e79203e80>"
      ]
     },
     "metadata": {},
     "output_type": "display_data"
    }
   ],
   "source": [
    "### Load the images and plot them here.\n",
    "### Feel free to use as many code cells as needed.\n",
    "imarray = []  \n",
    "for i in range(1,6):\n",
    "    im = plt.imread('web_img/rsz_0{}.jpg'.format(i))\n",
    "    imarray.append(im)\n",
    "    \n",
    "X_new = np.array(imarray)\n",
    "y_new = np.array([25,30,8,27,40])\n",
    "\n",
    "X_new = ((X_new-128).astype(np.int8))/128.0\n",
    "\n",
    "%matplotlib inline\n",
    "plt.figure(figsize=(1,1))\n",
    "plt.imshow(X_new[2])\n",
    "#print(image.shape)"
   ]
  },
  {
   "cell_type": "markdown",
   "metadata": {},
   "source": [
    "### Predict the Sign Type for Each Image"
   ]
  },
  {
   "cell_type": "code",
   "execution_count": 14,
   "metadata": {},
   "outputs": [
    {
     "name": "stdout",
     "output_type": "stream",
     "text": [
      "test accuracy 0.800000011921\n"
     ]
    }
   ],
   "source": [
    "### Run the predictions here and use the model to output the prediction for each image.\n",
    "### Make sure to pre-process the images with the same pre-processing pipeline used earlier.\n",
    "### Feel free to use as many code cells as needed.\n",
    "### Calculate the accuracy for these 5 new images.\n",
    "\n",
    "with tf.Session() as sess:\n",
    "    saver.restore(sess, tf.train.latest_checkpoint('.'))\n",
    "    test_accuracy = evaluate(X_new, y_new)\n",
    "    print(\"test accuracy\",test_accuracy)\n",
    "\n",
    "    "
   ]
  },
  {
   "cell_type": "markdown",
   "metadata": {},
   "source": [
    "### Analyze Performance"
   ]
  },
  {
   "cell_type": "markdown",
   "metadata": {},
   "source": [
    "### Output Top 5 Softmax Probabilities For Each Image Found on the Web"
   ]
  },
  {
   "cell_type": "markdown",
   "metadata": {},
   "source": [
    "For each of the new images, print out the model's softmax probabilities to show the **certainty** of the model's predictions (limit the output to the top 5 probabilities for each image). [`tf.nn.top_k`](https://www.tensorflow.org/versions/r0.12/api_docs/python/nn.html#top_k) could prove helpful here. \n",
    "\n",
    "The example below demonstrates how tf.nn.top_k can be used to find the top k predictions for each image.\n",
    "\n",
    "`tf.nn.top_k` will return the values and indices (class ids) of the top k predictions. So if k=3, for each sign, it'll return the 3 largest probabilities (out of a possible 43) and the correspoding class ids.\n",
    "\n",
    "Take this numpy array as an example. The values in the array represent predictions. The array contains softmax probabilities for five candidate images with six possible classes. `tk.nn.top_k` is used to choose the three classes with the highest probability:\n",
    "\n",
    "```\n",
    "# (5, 6) array\n",
    "a = np.array([[ 0.24879643,  0.07032244,  0.12641572,  0.34763842,  0.07893497,\n",
    "         0.12789202],\n",
    "       [ 0.28086119,  0.27569815,  0.08594638,  0.0178669 ,  0.18063401,\n",
    "         0.15899337],\n",
    "       [ 0.26076848,  0.23664738,  0.08020603,  0.07001922,  0.1134371 ,\n",
    "         0.23892179],\n",
    "       [ 0.11943333,  0.29198961,  0.02605103,  0.26234032,  0.1351348 ,\n",
    "         0.16505091],\n",
    "       [ 0.09561176,  0.34396535,  0.0643941 ,  0.16240774,  0.24206137,\n",
    "         0.09155967]])\n",
    "```\n",
    "\n",
    "Running it through `sess.run(tf.nn.top_k(tf.constant(a), k=3))` produces:\n",
    "\n",
    "```\n",
    "TopKV2(values=array([[ 0.34763842,  0.24879643,  0.12789202],\n",
    "       [ 0.28086119,  0.27569815,  0.18063401],\n",
    "       [ 0.26076848,  0.23892179,  0.23664738],\n",
    "       [ 0.29198961,  0.26234032,  0.16505091],\n",
    "       [ 0.34396535,  0.24206137,  0.16240774]]), indices=array([[3, 0, 5],\n",
    "       [0, 1, 4],\n",
    "       [0, 5, 1],\n",
    "       [1, 3, 5],\n",
    "       [1, 4, 3]], dtype=int32))\n",
    "```\n",
    "\n",
    "Looking just at the first row we get `[ 0.34763842,  0.24879643,  0.12789202]`, you can confirm these are the 3 largest probabilities in `a`. You'll also notice `[3, 0, 5]` are the corresponding indices."
   ]
  },
  {
   "cell_type": "code",
   "execution_count": 15,
   "metadata": {},
   "outputs": [
    {
     "name": "stdout",
     "output_type": "stream",
     "text": [
      "TopKV2(values=array([[  9.99999881e-01,   1.01182259e-07,   5.54705337e-10,\n",
      "          3.30133504e-10,   1.91464247e-10],\n",
      "       [  9.99949455e-01,   5.02745170e-05,   2.18681492e-07,\n",
      "          4.84552274e-08,   1.64498359e-09],\n",
      "       [  9.99053538e-01,   7.06962659e-04,   2.14046377e-04,\n",
      "          2.47913049e-05,   6.46263231e-07],\n",
      "       [  9.99543309e-01,   4.55556117e-04,   5.32670299e-07,\n",
      "          4.76401482e-07,   6.82266830e-08],\n",
      "       [  1.00000000e+00,   2.11284931e-11,   1.70599940e-11,\n",
      "          6.93978329e-16,   1.30152593e-17]], dtype=float32), indices=array([[25, 26, 24, 20, 30],\n",
      "       [30, 23, 34, 28, 29],\n",
      "       [29, 22, 23, 25, 28],\n",
      "       [27, 24, 18, 26, 11],\n",
      "       [40, 18, 38,  1, 36]], dtype=int32))\n"
     ]
    }
   ],
   "source": [
    "### Print out the top five softmax probabilities for the predictions on the German traffic sign images found on the web. \n",
    "### Feel free to use as many code cells as needed.\n",
    "\n",
    "sfm  = tf.nn.softmax(logits)\n",
    "with tf.Session() as sess:\n",
    "    saver.restore(sess, tf.train.latest_checkpoint('.'))\n",
    "    probs = sess.run(sfm, feed_dict={x: X_new})\n",
    "    top = sess.run(tf.nn.top_k(tf.constant(probs), k=5))\n",
    "    print(top)\n"
   ]
  },
  {
   "cell_type": "code",
   "execution_count": 17,
   "metadata": {},
   "outputs": [
    {
     "data": {
      "image/png": "[encoded data removed]",
      "text/plain": [
       "<matplotlib.figure.Figure at 0x7f8e79155f28>"
      ]
     },
     "metadata": {},
     "output_type": "display_data"
    }
   ],
   "source": [
    "plt.bar(top[1][0], top[0][0], width=0.5, color='g')\n",
    "plt.title('Road Work - 25')\n",
    "plt.xlabel('Classes')\n",
    "plt.ylabel('Probability')\n",
    "plt.savefig('web_img/25.png')\n",
    "plt.show()"
   ]
  },
  {
   "cell_type": "code",
   "execution_count": 18,
   "metadata": {
    "scrolled": true
   },
   "outputs": [
    {
     "data": {
      "image/png": "[encoded data removed]",
      "text/plain": [
       "<matplotlib.figure.Figure at 0x7f8e790fb898>"
      ]
     },
     "metadata": {},
     "output_type": "display_data"
    }
   ],
   "source": [
    "plt.bar(top[1][1], top[0][1], width=0.5, color='g')\n",
    "plt.title('Snow Ice - 30')\n",
    "plt.xlabel('Classes')\n",
    "plt.ylabel('Probability')\n",
    "plt.savefig('web_img/30.png')\n",
    "plt.show()"
   ]
  },
  {
   "cell_type": "code",
   "execution_count": 19,
   "metadata": {
    "scrolled": true
   },
   "outputs": [
    {
     "data": {
      "image/png": "[encoded data removed]",
      "text/plain": [
       "<matplotlib.figure.Figure at 0x7f8e7904d6d8>"
      ]
     },
     "metadata": {},
     "output_type": "display_data"
    }
   ],
   "source": [
    "plt.bar(top[1][2], top[0][2], width=0.5, color='g')\n",
    "plt.title('120 Kmph - 8')\n",
    "plt.xlabel('Classes')\n",
    "plt.ylabel('Probability')\n",
    "plt.savefig('web_img/8.png')\n",
    "plt.show()"
   ]
  },
  {
   "cell_type": "code",
   "execution_count": 20,
   "metadata": {
    "scrolled": true
   },
   "outputs": [
    {
     "data": {
      "image/png": "[encoded data removed]",
      "text/plain": [
       "<matplotlib.figure.Figure at 0x7f8e79036780>"
      ]
     },
     "metadata": {},
     "output_type": "display_data"
    }
   ],
   "source": [
    "plt.bar(top[1][3], top[0][3], width=0.5, color='g')\n",
    "plt.title('Pedestrian - 27')\n",
    "plt.xlabel('Classes')\n",
    "plt.ylabel('Probability')\n",
    "plt.savefig('web_img/27.png')\n",
    "plt.show()"
   ]
  },
  {
   "cell_type": "code",
   "execution_count": 21,
   "metadata": {},
   "outputs": [
    {
     "data": {
      "image/png": "[encoded data removed]",
      "text/plain": [
       "<matplotlib.figure.Figure at 0x7f8e78f2c710>"
      ]
     },
     "metadata": {},
     "output_type": "display_data"
    }
   ],
   "source": [
    "plt.bar(top[1][4], top[0][4], width=0.5, color='g')\n",
    "plt.title('Round About - 40')\n",
    "plt.xlabel('Classes')\n",
    "plt.ylabel('Probability')\n",
    "plt.savefig('web_img/40.png')\n",
    "plt.show()"
   ]
  },
  {
   "cell_type": "markdown",
   "metadata": {},
   "source": [
    "### Project Writeup\n",
    "\n",
    "Once you have completed the code implementation, document your results in a project writeup using this [template](https://github.com/udacity/CarND-Traffic-Sign-Classifier-Project/blob/master/writeup_template.md) as a guide. The writeup can be in a markdown or pdf file. "
   ]
  },
  {
   "cell_type": "markdown",
   "metadata": {},
   "source": [
    "> **Note**: Once you have completed all of the code implementations and successfully answered each question above, you may finalize your work by exporting the iPython Notebook as an HTML document. You can do this by using the menu above and navigating to  \\n\",\n",
    "    \"**File -> Download as -> HTML (.html)**. Include the finished document along with this notebook as your submission."
   ]
  },
  {
   "cell_type": "markdown",
   "metadata": {},
   "source": [
    "---\n",
    "\n",
    "## Step 4 (Optional): Visualize the Neural Network's State with Test Images\n",
    "\n",
    " This Section is not required to complete but acts as an additional excersise for understaning the output of a neural network's weights. While neural networks can be a great learning device they are often referred to as a black box. We can understand what the weights of a neural network look like better by plotting their feature maps. After successfully training your neural network you can see what it's feature maps look like by plotting the output of the network's weight layers in response to a test stimuli image. From these plotted feature maps, it's possible to see what characteristics of an image the network finds interesting. For a sign, maybe the inner network feature maps react with high activation to the sign's boundary outline or to the contrast in the sign's painted symbol.\n",
    "\n",
    " Provided for you below is the function code that allows you to get the visualization output of any tensorflow weight layer you want. The inputs to the function should be a stimuli image, one used during training or a new one you provided, and then the tensorflow variable name that represents the layer's state during the training process, for instance if you wanted to see what the [LeNet lab's](https://classroom.udacity.com/nanodegrees/nd013/parts/fbf77062-5703-404e-b60c-95b78b2f3f9e/modules/6df7ae49-c61c-4bb2-a23e-6527e69209ec/lessons/601ae704-1035-4287-8b11-e2c2716217ad/concepts/d4aca031-508f-4e0b-b493-e7b706120f81) feature maps looked like for it's second convolutional layer you could enter conv2 as the tf_activation variable.\n",
    "\n",
    "For an example of what feature map outputs look like, check out NVIDIA's results in their paper [End-to-End Deep Learning for Self-Driving Cars](https://devblogs.nvidia.com/parallelforall/deep-learning-self-driving-cars/) in the section Visualization of internal CNN State. NVIDIA was able to show that their network's inner weights had high activations to road boundary lines by comparing feature maps from an image with a clear path to one without. Try experimenting with a similar test to show that your trained network's weights are looking for interesting features, whether it's looking at differences in feature maps from images with or without a sign, or even what feature maps look like in a trained network vs a completely untrained one on the same sign image.\n",
    "\n",
    "<figure>\n",
    " <img src=\"visualize_cnn.png\" width=\"380\" alt=\"Combined Image\" />\n",
    " <figcaption>\n",
    " <p></p> \n",
    " <p style=\"text-align: center;\"> Your output should look something like this (above)</p> \n",
    " </figcaption>\n",
    "</figure>\n",
    " <p></p> \n"
   ]
  },
  {
   "cell_type": "code",
   "execution_count": null,
   "metadata": {
    "collapsed": true
   },
   "outputs": [],
   "source": [
    "### Visualize your network's feature maps here.\n",
    "### Feel free to use as many code cells as needed.\n",
    "\n",
    "# image_input: the test image being fed into the network to produce the feature maps\n",
    "# tf_activation: should be a tf variable name used during your training procedure that represents the calculated state of a specific weight layer\n",
    "# activation_min/max: can be used to view the activation contrast in more detail, by default matplot sets min and max to the actual min and max values of the output\n",
    "# plt_num: used to plot out multiple different weight feature map sets on the same block, just extend the plt number for each new feature map entry\n",
    "\n",
    "def outputFeatureMap(image_input, tf_activation, activation_min=-1, activation_max=-1 ,plt_num=1):\n",
    "    # Here make sure to preprocess your image_input in a way your network expects\n",
    "    # with size, normalization, ect if needed\n",
    "    # image_input =\n",
    "    # Note: x should be the same name as your network's tensorflow data placeholder variable\n",
    "    # If you get an error tf_activation is not defined it may be having trouble accessing the variable from inside a function\n",
    "    activation = tf_activation.eval(session=sess,feed_dict={x : image_input})\n",
    "    featuremaps = activation.shape[3]\n",
    "    plt.figure(plt_num, figsize=(15,15))\n",
    "    for featuremap in range(featuremaps):\n",
    "        plt.subplot(6,8, featuremap+1) # sets the number of feature maps to show on each row and column\n",
    "        plt.title('FeatureMap ' + str(featuremap)) # displays the feature map number\n",
    "        if activation_min != -1 & activation_max != -1:\n",
    "            plt.imshow(activation[0,:,:, featuremap], interpolation=\"nearest\", vmin =activation_min, vmax=activation_max, cmap=\"gray\")\n",
    "        elif activation_max != -1:\n",
    "            plt.imshow(activation[0,:,:, featuremap], interpolation=\"nearest\", vmax=activation_max, cmap=\"gray\")\n",
    "        elif activation_min !=-1:\n",
    "            plt.imshow(activation[0,:,:, featuremap], interpolation=\"nearest\", vmin=activation_min, cmap=\"gray\")\n",
    "        else:\n",
    "            plt.imshow(activation[0,:,:, featuremap], interpolation=\"nearest\", cmap=\"gray\")"
   ]
  }
 ],
 "metadata": {
  "anaconda-cloud": {},
  "kernelspec": {
   "display_name": "Python 3",
   "language": "python",
   "name": "python3"
  },
  "language_info": {
   "codemirror_mode": {
    "name": "ipython",
    "version": 3
   },
   "file_extension": ".py",
   "mimetype": "text/x-python",
   "name": "python",
   "nbconvert_exporter": "python",
   "pygments_lexer": "ipython3",
   "version": "3.5.2"
  },
  "widgets": {
   "state": {},
   "version": "1.1.2"
  }
 },
 "nbformat": 4,
 "nbformat_minor": 1
}
